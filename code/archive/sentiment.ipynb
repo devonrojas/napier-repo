{
 "cells": [
  {
   "cell_type": "code",
   "execution_count": 54,
   "id": "0562dd19",
   "metadata": {},
   "outputs": [],
   "source": [
    "import pandas as pd\n",
    "import glob, os, re, json\n",
    "from tqdm.notebook import tqdm\n",
    "from vaderSentiment.vaderSentiment import SentimentIntensityAnalyzer"
   ]
  },
  {
   "cell_type": "code",
   "execution_count": 6,
   "id": "fee65bdc",
   "metadata": {},
   "outputs": [],
   "source": [
    "files = glob.glob(\"../raw/[0-9]*.csv\")"
   ]
  },
  {
   "cell_type": "code",
   "execution_count": 7,
   "id": "d81d2f33",
   "metadata": {},
   "outputs": [
    {
     "data": {
      "application/vnd.jupyter.widget-view+json": {
       "model_id": "7a4763865e0d489899f4f60de606a8ba",
       "version_major": 2,
       "version_minor": 0
      },
      "text/plain": [
       "  0%|          | 0/701 [00:00<?, ?it/s]"
      ]
     },
     "metadata": {},
     "output_type": "display_data"
    }
   ],
   "source": [
    "dfs = []\n",
    "for fi in tqdm(files):\n",
    "    try:\n",
    "        df = pd.read_csv(fi, index_col=0)\n",
    "    except Exception:\n",
    "        df = pd.read_csv(fi, encoding=\"windows-1252\", index_col=0)\n",
    "    dfs.append(df)\n",
    "full_data = pd.concat(dfs, axis = 0)"
   ]
  },
  {
   "cell_type": "code",
   "execution_count": 9,
   "id": "385bf409",
   "metadata": {},
   "outputs": [
    {
     "data": {
      "text/html": [
       "<div>\n",
       "<style scoped>\n",
       "    .dataframe tbody tr th:only-of-type {\n",
       "        vertical-align: middle;\n",
       "    }\n",
       "\n",
       "    .dataframe tbody tr th {\n",
       "        vertical-align: top;\n",
       "    }\n",
       "\n",
       "    .dataframe thead th {\n",
       "        text-align: right;\n",
       "    }\n",
       "</style>\n",
       "<table border=\"1\" class=\"dataframe\">\n",
       "  <thead>\n",
       "    <tr style=\"text-align: right;\">\n",
       "      <th></th>\n",
       "      <th>LineNo</th>\n",
       "      <th>Interviewer</th>\n",
       "      <th>Statement</th>\n",
       "      <th>Question</th>\n",
       "      <th>Answer</th>\n",
       "      <th>Vol</th>\n",
       "      <th>Page</th>\n",
       "      <th>Area</th>\n",
       "      <th>Witness</th>\n",
       "      <th>Location</th>\n",
       "    </tr>\n",
       "  </thead>\n",
       "  <tbody>\n",
       "    <tr>\n",
       "      <th>0</th>\n",
       "      <td>1291</td>\n",
       "      <td>The Chairman.</td>\n",
       "      <td>NaN</td>\n",
       "      <td>What is your occupation ?</td>\n",
       "      <td>My son is a crofter, and I am in my son's plac...</td>\n",
       "      <td>1.0</td>\n",
       "      <td>73.0</td>\n",
       "      <td>Skye, Skeabost</td>\n",
       "      <td>Hugh Mcnab</td>\n",
       "      <td>Kildonan, Lynedale</td>\n",
       "    </tr>\n",
       "    <tr>\n",
       "      <th>1</th>\n",
       "      <td>1292</td>\n",
       "      <td>The Chairman.</td>\n",
       "      <td>NaN</td>\n",
       "      <td>How far back with the previous landlord?</td>\n",
       "      <td>Thirty-four years ago.</td>\n",
       "      <td>1.0</td>\n",
       "      <td>73.0</td>\n",
       "      <td>Skye, Skeabost</td>\n",
       "      <td>Hugh Mcnab</td>\n",
       "      <td>Kildonan, Lynedale</td>\n",
       "    </tr>\n",
       "    <tr>\n",
       "      <th>2</th>\n",
       "      <td>1293</td>\n",
       "      <td>Mr Fraser-Mackintosh.</td>\n",
       "      <td>NaN</td>\n",
       "      <td>We will take the present landlord?</td>\n",
       "      <td>The present landlord raised our rent 31s. and ...</td>\n",
       "      <td>1.0</td>\n",
       "      <td>73.0</td>\n",
       "      <td>Skye, Skeabost</td>\n",
       "      <td>Hugh Mcnab</td>\n",
       "      <td>Kildonan, Lynedale</td>\n",
       "    </tr>\n",
       "    <tr>\n",
       "      <th>3</th>\n",
       "      <td>1294</td>\n",
       "      <td>The Chairman.</td>\n",
       "      <td>NaN</td>\n",
       "      <td>Will you state the amount of stock which your ...</td>\n",
       "      <td>In summer and autumn we could keep two cows an...</td>\n",
       "      <td>1.0</td>\n",
       "      <td>73.0</td>\n",
       "      <td>Skye, Skeabost</td>\n",
       "      <td>Hugh Mcnab</td>\n",
       "      <td>Kildonan, Lynedale</td>\n",
       "    </tr>\n",
       "    <tr>\n",
       "      <th>4</th>\n",
       "      <td>1295</td>\n",
       "      <td>Sheriff Nicolson.</td>\n",
       "      <td>NaN</td>\n",
       "      <td>When were the sheep taken from you?</td>\n",
       "      <td>The landlord took the sheep stock from us a fe...</td>\n",
       "      <td>1.0</td>\n",
       "      <td>73.0</td>\n",
       "      <td>Skye, Skeabost</td>\n",
       "      <td>Hugh Mcnab</td>\n",
       "      <td>Kildonan, Lynedale</td>\n",
       "    </tr>\n",
       "  </tbody>\n",
       "</table>\n",
       "</div>"
      ],
      "text/plain": [
       "  LineNo            Interviewer Statement  \\\n",
       "0   1291          The Chairman.       NaN   \n",
       "1   1292          The Chairman.       NaN   \n",
       "2   1293  Mr Fraser-Mackintosh.       NaN   \n",
       "3   1294          The Chairman.       NaN   \n",
       "4   1295      Sheriff Nicolson.       NaN   \n",
       "\n",
       "                                            Question  \\\n",
       "0                          What is your occupation ?   \n",
       "1           How far back with the previous landlord?   \n",
       "2                 We will take the present landlord?   \n",
       "3  Will you state the amount of stock which your ...   \n",
       "4                When were the sheep taken from you?   \n",
       "\n",
       "                                              Answer  Vol  Page  \\\n",
       "0  My son is a crofter, and I am in my son's plac...  1.0  73.0   \n",
       "1                             Thirty-four years ago.  1.0  73.0   \n",
       "2  The present landlord raised our rent 31s. and ...  1.0  73.0   \n",
       "3  In summer and autumn we could keep two cows an...  1.0  73.0   \n",
       "4  The landlord took the sheep stock from us a fe...  1.0  73.0   \n",
       "\n",
       "             Area     Witness            Location  \n",
       "0  Skye, Skeabost  Hugh Mcnab  Kildonan, Lynedale  \n",
       "1  Skye, Skeabost  Hugh Mcnab  Kildonan, Lynedale  \n",
       "2  Skye, Skeabost  Hugh Mcnab  Kildonan, Lynedale  \n",
       "3  Skye, Skeabost  Hugh Mcnab  Kildonan, Lynedale  \n",
       "4  Skye, Skeabost  Hugh Mcnab  Kildonan, Lynedale  "
      ]
     },
     "execution_count": 9,
     "metadata": {},
     "output_type": "execute_result"
    }
   ],
   "source": [
    "full_text = full_data.dropna(subset=[\"Answer\"])\n",
    "full_text.head()"
   ]
  },
  {
   "cell_type": "code",
   "execution_count": 26,
   "id": "33fa0f51",
   "metadata": {},
   "outputs": [
    {
     "data": {
      "text/html": [
       "<div>\n",
       "<style scoped>\n",
       "    .dataframe tbody tr th:only-of-type {\n",
       "        vertical-align: middle;\n",
       "    }\n",
       "\n",
       "    .dataframe tbody tr th {\n",
       "        vertical-align: top;\n",
       "    }\n",
       "\n",
       "    .dataframe thead th {\n",
       "        text-align: right;\n",
       "    }\n",
       "</style>\n",
       "<table border=\"1\" class=\"dataframe\">\n",
       "  <thead>\n",
       "    <tr style=\"text-align: right;\">\n",
       "      <th></th>\n",
       "      <th>text</th>\n",
       "      <th>line_num</th>\n",
       "      <th>Area</th>\n",
       "      <th>Witness</th>\n",
       "      <th>Location</th>\n",
       "    </tr>\n",
       "  </thead>\n",
       "  <tbody>\n",
       "    <tr>\n",
       "      <th>0</th>\n",
       "      <td>You have a statement to make</td>\n",
       "      <td>1</td>\n",
       "      <td>Edinburgh,ï¿½</td>\n",
       "      <td>Alexander Robertsonï¿½</td>\n",
       "      <td>Edinburgh</td>\n",
       "    </tr>\n",
       "    <tr>\n",
       "      <th>1</th>\n",
       "      <td>The testimony I propose to adduce is founded o...</td>\n",
       "      <td>1</td>\n",
       "      <td>Edinburgh,ï¿½</td>\n",
       "      <td>Alexander Robertsonï¿½</td>\n",
       "      <td>Edinburgh</td>\n",
       "    </tr>\n",
       "    <tr>\n",
       "      <th>2</th>\n",
       "      <td>I have also during the last forty years sought...</td>\n",
       "      <td>1</td>\n",
       "      <td>Edinburgh,ï¿½</td>\n",
       "      <td>Alexander Robertsonï¿½</td>\n",
       "      <td>Edinburgh</td>\n",
       "    </tr>\n",
       "    <tr>\n",
       "      <th>3</th>\n",
       "      <td>The result of my inquiries was to satisfy me t...</td>\n",
       "      <td>1</td>\n",
       "      <td>Edinburgh,ï¿½</td>\n",
       "      <td>Alexander Robertsonï¿½</td>\n",
       "      <td>Edinburgh</td>\n",
       "    </tr>\n",
       "    <tr>\n",
       "      <th>4</th>\n",
       "      <td>As your time is short I shall pass over a vari...</td>\n",
       "      <td>1</td>\n",
       "      <td>Edinburgh,ï¿½</td>\n",
       "      <td>Alexander Robertsonï¿½</td>\n",
       "      <td>Edinburgh</td>\n",
       "    </tr>\n",
       "  </tbody>\n",
       "</table>\n",
       "</div>"
      ],
      "text/plain": [
       "                                                text  line_num           Area  \\\n",
       "0                       You have a statement to make         1  Edinburgh,ï¿½   \n",
       "1  The testimony I propose to adduce is founded o...         1  Edinburgh,ï¿½   \n",
       "2  I have also during the last forty years sought...         1  Edinburgh,ï¿½   \n",
       "3  The result of my inquiries was to satisfy me t...         1  Edinburgh,ï¿½   \n",
       "4  As your time is short I shall pass over a vari...         1  Edinburgh,ï¿½   \n",
       "\n",
       "                  Witness   Location  \n",
       "0  Alexander Robertsonï¿½  Edinburgh  \n",
       "1  Alexander Robertsonï¿½  Edinburgh  \n",
       "2  Alexander Robertsonï¿½  Edinburgh  \n",
       "3  Alexander Robertsonï¿½  Edinburgh  \n",
       "4  Alexander Robertsonï¿½  Edinburgh  "
      ]
     },
     "execution_count": 26,
     "metadata": {},
     "output_type": "execute_result"
    }
   ],
   "source": [
    "df = pd.read_csv(\"../data/output/sent_meta.csv\")\n",
    "df.columns = [\"text\", \"line_num\", \"Area\", \"Witness\", \"Location\"]\n",
    "df.loc[df['text'].isna(),'text'] = \"\"\n",
    "df.head()"
   ]
  },
  {
   "cell_type": "code",
   "execution_count": 28,
   "id": "163c2afa",
   "metadata": {},
   "outputs": [
    {
     "data": {
      "application/vnd.jupyter.widget-view+json": {
       "model_id": "2a7697c1e1d043128b5612981afb0284",
       "version_major": 2,
       "version_minor": 0
      },
      "text/plain": [
       "sentiment:   0%|          | 0/109151 [00:00<?, ?it/s]"
      ]
     },
     "metadata": {},
     "output_type": "display_data"
    }
   ],
   "source": [
    "analyzer = SentimentIntensityAnalyzer()\n",
    "tqdm.pandas(desc=\"sentiment\")\n",
    "df['sentiment'] = df['text'].progress_apply(lambda x: analyzer.polarity_scores(x)[\"compound\"])"
   ]
  },
  {
   "cell_type": "code",
   "execution_count": 29,
   "id": "e80d6c0c",
   "metadata": {},
   "outputs": [],
   "source": [
    "df.to_csv(\"sent_sentiments.csv\", index = False)"
   ]
  }
 ],
 "metadata": {
  "kernelspec": {
   "display_name": "py312",
   "language": "python",
   "name": "python3"
  },
  "language_info": {
   "codemirror_mode": {
    "name": "ipython",
    "version": 3
   },
   "file_extension": ".py",
   "mimetype": "text/x-python",
   "name": "python",
   "nbconvert_exporter": "python",
   "pygments_lexer": "ipython3",
   "version": "3.12.7"
  }
 },
 "nbformat": 4,
 "nbformat_minor": 5
}
